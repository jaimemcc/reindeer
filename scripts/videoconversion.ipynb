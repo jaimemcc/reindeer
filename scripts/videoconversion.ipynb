{
 "cells": [
  {
   "cell_type": "markdown",
   "metadata": {},
   "source": [
    "Draft notebook to convert reindeer videos"
   ]
  },
  {
   "cell_type": "code",
   "execution_count": 7,
   "metadata": {},
   "outputs": [],
   "source": [
    "from pathlib import Path\n",
    "import cv2\n",
    "import pytesseract\n",
    "from datetime import datetime\n",
    "import subprocess"
   ]
  },
  {
   "cell_type": "code",
   "execution_count": 2,
   "metadata": {},
   "outputs": [],
   "source": [
    "pytesseract.pytesseract.tesseract_cmd = r'C:\\\\Users\\\\jmc010\\\\AppData\\\\Local\\\\Programs\\\\Tesseract-OCR\\\\tesseract.exe'"
   ]
  },
  {
   "cell_type": "code",
   "execution_count": 3,
   "metadata": {},
   "outputs": [],
   "source": [
    "DATAFOLDER = Path(\"..//data//\").resolve() # folder with data files\n",
    "RESULTSFOLDER = Path(\"..//results//\").resolve() # folder with results files\n",
    "video_path = DATAFOLDER / \"IMG_0019.MP4\"\n",
    "\n",
    "SCALE = 0.5\n",
    "CAM_NUMBER = \"SALT\""
   ]
  },
  {
   "cell_type": "code",
   "execution_count": 25,
   "metadata": {},
   "outputs": [],
   "source": [
    "def resize_video(filename, scale, cam_number, outputfolder=None):\n",
    "    \n",
    "    if outputfolder is None:\n",
    "        outputfolder = filename.parent\n",
    "    \n",
    "    cap = cv2.VideoCapture(filename)\n",
    "    \n",
    "    if not cap.isOpened():\n",
    "        print(\"Error: Could not open video.\")\n",
    "        exit()\n",
    "    \n",
    "    # Read the first frame\n",
    "    ret, frame = cap.read()\n",
    "    cap.release()\n",
    "\n",
    "    dims = frame.shape\n",
    "    x = dims[1]\n",
    "    y = dims[0]\n",
    "\n",
    "    new_x = int(x * SCALE)\n",
    "    new_y = int(y * SCALE)\n",
    "    \n",
    "    gray_frame = cv2.cvtColor(frame, cv2.COLOR_BGR2GRAY)\n",
    "    gray_frame_reduced = gray_frame[1040:,1610:]\n",
    "    \n",
    "    time_str = pytesseract.image_to_string(gray_frame_reduced)\n",
    "    datetime_obj = datetime.strptime(time_str.strip(), '%m/%d/%Y %I:%M%p')\n",
    "    formatted_date = datetime_obj.strftime('%Y-%m-%d_%H%M')\n",
    "\n",
    "    newfilename = outputfolder / f\"{formatted_date}_{CAM_NUMBER}.MP4\"\n",
    "    \n",
    "    inputfile = str(video_path).replace('\\\\', '/')\n",
    "    outputfile = str(newfilename).replace('\\\\', '/')\n",
    "\n",
    "    command = f\"ffmpeg -i {inputfile} -vf scale=640:-1 {outputfile}\"\n",
    "    \n",
    "    subprocess.run(command, shell=True)\n",
    "    \n",
    "resize_video(video_path, SCALE, CAM_NUMBER)\n",
    "\n",
    "    "
   ]
  },
  {
   "cell_type": "code",
   "execution_count": null,
   "metadata": {},
   "outputs": [],
   "source": [
    "mp4_files = list(DATAFOLDER.glob('*.MP4'))\n",
    "for file in mp4_files:\n",
    "    resize_video(file, SCALE, CAM_NUMBER, outputfolder=RESULTSFOLDER)\n",
    "    \n",
    "    "
   ]
  },
  {
   "cell_type": "code",
   "execution_count": null,
   "metadata": {},
   "outputs": [],
   "source": []
  },
  {
   "cell_type": "code",
   "execution_count": 4,
   "metadata": {},
   "outputs": [],
   "source": [
    "cap = cv2.VideoCapture(video_path)\n",
    "\n",
    "if not cap.isOpened():\n",
    "    print(\"Error: Could not open video.\")\n",
    "    exit()\n",
    "    \n",
    "# Read the first frame\n",
    "ret, frame = cap.read()\n",
    "\n",
    "dims = frame.shape\n",
    "x = dims[1]\n",
    "y = dims[0]\n",
    "\n",
    "new_x = int(x * SCALE)\n",
    "new_y = int(y * SCALE)\n",
    "    "
   ]
  },
  {
   "cell_type": "code",
   "execution_count": 5,
   "metadata": {},
   "outputs": [],
   "source": [
    "# Convert the frame to grayscale (optional, but can improve OCR accuracy)\n",
    "gray_frame = cv2.cvtColor(frame, cv2.COLOR_BGR2GRAY)\n",
    "gray_frame_reduced = gray_frame[1040:,1610:]"
   ]
  },
  {
   "cell_type": "code",
   "execution_count": 12,
   "metadata": {},
   "outputs": [],
   "source": [
    "time_str = pytesseract.image_to_string(gray_frame_reduced)\n",
    "datetime_obj = datetime.strptime(time_str.strip(), '%m/%d/%Y %I:%M%p')\n",
    "formatted_date = datetime_obj.strftime('%Y-%m-%d_%H%M')\n",
    "\n",
    "newfilename = RESULTSFOLDER / f\"{formatted_date}_{CAM_NUMBER}.MP4\"\n"
   ]
  },
  {
   "cell_type": "code",
   "execution_count": 19,
   "metadata": {},
   "outputs": [],
   "source": [
    "inputfile = str(video_path).replace('\\\\', '/')\n",
    "outputfile = str(newfilename).replace('\\\\', '/')\n",
    "\n",
    "command = f\"ffmpeg -i {inputfile} -vf scale=640:-1 {outputfile}\""
   ]
  },
  {
   "cell_type": "code",
   "execution_count": 20,
   "metadata": {},
   "outputs": [
    {
     "data": {
      "text/plain": [
       "'ffmpeg -i C:/Github/reindeer/data/IMG_0019.MP4 -vf scale=640:-1 C:/Github/reindeer/results/2025-01-15_0943_SALT.MP4'"
      ]
     },
     "execution_count": 20,
     "metadata": {},
     "output_type": "execute_result"
    }
   ],
   "source": [
    "command"
   ]
  },
  {
   "cell_type": "code",
   "execution_count": 21,
   "metadata": {},
   "outputs": [
    {
     "data": {
      "text/plain": [
       "CompletedProcess(args='ffmpeg -i C:/Github/reindeer/data/IMG_0019.MP4 -vf scale=640:-1 C:/Github/reindeer/results/2025-01-15_0943_SALT.MP4', returncode=0)"
      ]
     },
     "execution_count": 21,
     "metadata": {},
     "output_type": "execute_result"
    }
   ],
   "source": [
    "subprocess.run(command, shell=True)"
   ]
  },
  {
   "cell_type": "code",
   "execution_count": 83,
   "metadata": {},
   "outputs": [
    {
     "data": {
      "text/plain": [
       "'ffmpeg -i C:\\\\Github\\\\reindeer\\\\data\\\\IMG_0019.MP4 -vf scale=960:540 -c:a copy 2025-01-15_0943_SALT.mp4'"
      ]
     },
     "execution_count": 83,
     "metadata": {},
     "output_type": "execute_result"
    }
   ],
   "source": [
    "command"
   ]
  },
  {
   "cell_type": "code",
   "execution_count": null,
   "metadata": {},
   "outputs": [],
   "source": [
    "ffmpeg -i input.mp4 -vf \"scale=width:height\" output.mp4"
   ]
  },
  {
   "cell_type": "code",
   "execution_count": null,
   "metadata": {},
   "outputs": [],
   "source": []
  }
 ],
 "metadata": {
  "kernelspec": {
   "display_name": "default",
   "language": "python",
   "name": "python3"
  },
  "language_info": {
   "codemirror_mode": {
    "name": "ipython",
    "version": 3
   },
   "file_extension": ".py",
   "mimetype": "text/x-python",
   "name": "python",
   "nbconvert_exporter": "python",
   "pygments_lexer": "ipython3",
   "version": "3.10.16"
  }
 },
 "nbformat": 4,
 "nbformat_minor": 2
}
